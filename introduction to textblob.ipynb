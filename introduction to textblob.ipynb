{
 "cells": [
  {
   "cell_type": "markdown",
   "metadata": {},
   "source": [
    "# Introduction to TextBlob\n",
    "\n",
    "I write the following code snipets as I introduce myself to working with **TextBlob** following it's documentation [here.](https://textblob.readthedocs.io/en/dev/index.html)"
   ]
  },
  {
   "cell_type": "markdown",
   "metadata": {},
   "source": [
    "Generally, the following are the methods/ functions associated with this powerful text processing tool:\n",
    "- Create a TextBlob  \n",
    "- Part-of-speech Tagging  \n",
    "- Noun Phrase Extraction  \n",
    "- Sentiment Analysis  \n",
    "- Tokenization(.words, .sentences)\n",
    "- Words Inflection(pluralize() & singularize()) and Lemmatization(base form)\n",
    "- WordNet Integration(eg. word definitions)\n",
    "- WordLists  \n",
    "- Spelling Correction  \n",
    "- Get Word and Noun Phrase Frequencies(count)\n",
    "- Translation and Language Detection  \n",
    "- Parsing  \n",
    "- TextBlobs Are Like Python Strings!  \n",
    "- n-grams  \n",
    "- Get Start and End Indices of Sentences  "
   ]
  },
  {
   "cell_type": "markdown",
   "metadata": {},
   "source": [
    "**Let's explore a few of these methods**"
   ]
  },
  {
   "cell_type": "code",
   "execution_count": 1,
   "metadata": {},
   "outputs": [],
   "source": [
    "from textblob import TextBlob"
   ]
  },
  {
   "cell_type": "code",
   "execution_count": 2,
   "metadata": {},
   "outputs": [],
   "source": [
    "text = 'I love this food.'\n",
    "blob = TextBlob(text)"
   ]
  },
  {
   "cell_type": "code",
   "execution_count": 3,
   "metadata": {},
   "outputs": [],
   "source": [
    "# A similar way of doing it:\n",
    "\n",
    "#TextBlob('I love this food.').sentiment"
   ]
  },
  {
   "cell_type": "code",
   "execution_count": 4,
   "metadata": {},
   "outputs": [
    {
     "data": {
      "text/plain": [
       "[('I', 'PRP'), ('love', 'VBP'), ('this', 'DT'), ('food', 'NN')]"
      ]
     },
     "execution_count": 4,
     "metadata": {},
     "output_type": "execute_result"
    }
   ],
   "source": [
    "# Getting word tags (parts of speech tagging)\n",
    "\n",
    "blob.tags"
   ]
  },
  {
   "cell_type": "code",
   "execution_count": 5,
   "metadata": {},
   "outputs": [
    {
     "data": {
      "text/plain": [
       "WordList([])"
      ]
     },
     "execution_count": 5,
     "metadata": {},
     "output_type": "execute_result"
    }
   ],
   "source": [
    "# Getting noun phrases (not nouns)\n",
    "\n",
    "blob.noun_phrases"
   ]
  },
  {
   "cell_type": "code",
   "execution_count": 6,
   "metadata": {},
   "outputs": [
    {
     "data": {
      "text/plain": [
       "TextBlob(\"Amo esta comida\")"
      ]
     },
     "execution_count": 6,
     "metadata": {},
     "output_type": "execute_result"
    }
   ],
   "source": [
    "# Translation\n",
    "\n",
    "blob.translate(to='es')"
   ]
  },
  {
   "cell_type": "code",
   "execution_count": 7,
   "metadata": {},
   "outputs": [
    {
     "data": {
      "text/plain": [
       "WordList(['I', 'love', 'this', 'food'])"
      ]
     },
     "execution_count": 7,
     "metadata": {},
     "output_type": "execute_result"
    }
   ],
   "source": [
    "blob.words"
   ]
  },
  {
   "cell_type": "code",
   "execution_count": 8,
   "metadata": {},
   "outputs": [
    {
     "data": {
      "text/plain": [
       "[Sentence(\"I love this food.\")]"
      ]
     },
     "execution_count": 8,
     "metadata": {},
     "output_type": "execute_result"
    }
   ],
   "source": [
    "blob.sentences"
   ]
  },
  {
   "cell_type": "markdown",
   "metadata": {},
   "source": [
    "Let's get a paragraph and work with it to cover more TextBlob methods"
   ]
  },
  {
   "cell_type": "code",
   "execution_count": 9,
   "metadata": {},
   "outputs": [],
   "source": [
    "# Here is a good one I got from an online article\n",
    "\n",
    "par = \"\"\"Natural Language Procesing (NLP) is an area of growing attention due to increasing number of applications\n",
    "like chatbots, machine translation etc. In some ways, the entire revolution of intelligent machines in based on\n",
    "the ability to understand and interact with humans. I have been exploring NLP for some time now.  My journey \n",
    "started with NLTK library in Python, which was the recommended library to get started at that time. NLTK is a \n",
    "perfect library for education and research, it becomes very heavy and tedious for completing even the simple \n",
    "tasks. Later, I got introduced to TextBlob, which is built on the shoulders of NLTK and Pattern. A big advantage\n",
    "of this is, it is easy to learn and offers a lot of features like sentiment analysis, pos-tagging, noun phrase \n",
    "extraction, etc. It has now become my go-to library for performing NLP tasks. On a side note, there is spacy, \n",
    "which is widely recognized as one of the powerful and advanced library used to implement NLP tasks. But having \n",
    "encountered both spacy and TextBlob, I would still suggest TextBlob to a beginner due to its simple interface. If \n",
    "it is your first step in NLP, TextBlob is the perfect library for you to get hands-on with.\"\"\""
   ]
  },
  {
   "cell_type": "code",
   "execution_count": 10,
   "metadata": {},
   "outputs": [],
   "source": [
    "par = TextBlob(par)"
   ]
  },
  {
   "cell_type": "code",
   "execution_count": 11,
   "metadata": {},
   "outputs": [
    {
     "data": {
      "text/plain": [
       "WordList(['language procesing', 'nlp', 'machine translation etc', 'entire revolution', 'intelligent machines', 'nlp', 'nltk', 'python', 'nltk', 'perfect library', 'simple tasks', 'textblob', 'nltk', 'pattern', 'big advantage', 'sentiment analysis', 'noun phrase extraction', 'go-to library', 'nlp', 'side note', 'nlp', 'textblob', 'textblob', 'simple interface', 'nlp', 'textblob', 'perfect library'])"
      ]
     },
     "execution_count": 11,
     "metadata": {},
     "output_type": "execute_result"
    }
   ],
   "source": [
    "par.noun_phrases"
   ]
  },
  {
   "cell_type": "code",
   "execution_count": 12,
   "metadata": {},
   "outputs": [
    {
     "data": {
      "text/plain": [
       "[Sentence(\"Natural Language Procesing (NLP) is an area of growing attention due to increasing number of applications\n",
       " like chatbots, machine translation etc.\"),\n",
       " Sentence(\"In some ways, the entire revolution of intelligent machines in based on\n",
       " the ability to understand and interact with humans.\"),\n",
       " Sentence(\"I have been exploring NLP for some time now.\"),\n",
       " Sentence(\"My journey \n",
       " started with NLTK library in Python, which was the recommended library to get started at that time.\"),\n",
       " Sentence(\"NLTK is a \n",
       " perfect library for education and research, it becomes very heavy and tedious for completing even the simple \n",
       " tasks.\"),\n",
       " Sentence(\"Later, I got introduced to TextBlob, which is built on the shoulders of NLTK and Pattern.\"),\n",
       " Sentence(\"A big advantage\n",
       " of this is, it is easy to learn and offers a lot of features like sentiment analysis, pos-tagging, noun phrase \n",
       " extraction, etc.\"),\n",
       " Sentence(\"It has now become my go-to library for performing NLP tasks.\"),\n",
       " Sentence(\"On a side note, there is spacy, \n",
       " which is widely recognized as one of the powerful and advanced library used to implement NLP tasks.\"),\n",
       " Sentence(\"But having \n",
       " encountered both spacy and TextBlob, I would still suggest TextBlob to a beginner due to its simple interface.\"),\n",
       " Sentence(\"If \n",
       " it is your first step in NLP, TextBlob is the perfect library for you to get hands-on with.\")]"
      ]
     },
     "execution_count": 12,
     "metadata": {},
     "output_type": "execute_result"
    }
   ],
   "source": [
    "par.sentences"
   ]
  },
  {
   "cell_type": "markdown",
   "metadata": {},
   "source": [
    "Let's get polarity of every sentence in our paragraph"
   ]
  },
  {
   "cell_type": "code",
   "execution_count": 13,
   "metadata": {},
   "outputs": [
    {
     "name": "stdout",
     "output_type": "stream",
     "text": [
      "-0.012499999999999997\n",
      "0.4\n",
      "0.0\n",
      "0.0\n",
      "0.06\n",
      "0.0\n",
      "0.17777777777777778\n",
      "0.0\n",
      "0.19999999999999998\n",
      "-0.0625\n",
      "0.625\n"
     ]
    }
   ],
   "source": [
    "for sent in par.sentences:\n",
    "    print(TextBlob(str(sent)).sentiment.polarity)"
   ]
  },
  {
   "cell_type": "markdown",
   "metadata": {},
   "source": [
    "## Parts-of-speech tagging"
   ]
  },
  {
   "cell_type": "code",
   "execution_count": 14,
   "metadata": {},
   "outputs": [
    {
     "data": {
      "text/plain": [
       "[('Natural', 'JJ'),\n",
       " ('Language', 'NNP'),\n",
       " ('Procesing', 'NNP'),\n",
       " ('NLP', 'NNP'),\n",
       " ('is', 'VBZ'),\n",
       " ('an', 'DT'),\n",
       " ('area', 'NN'),\n",
       " ('of', 'IN'),\n",
       " ('growing', 'VBG'),\n",
       " ('attention', 'NN'),\n",
       " ('due', 'JJ'),\n",
       " ('to', 'TO'),\n",
       " ('increasing', 'VBG'),\n",
       " ('number', 'NN'),\n",
       " ('of', 'IN'),\n",
       " ('applications', 'NNS'),\n",
       " ('like', 'IN'),\n",
       " ('chatbots', 'NNS'),\n",
       " ('machine', 'NN'),\n",
       " ('translation', 'NN'),\n",
       " ('etc', 'NN')]"
      ]
     },
     "execution_count": 14,
     "metadata": {},
     "output_type": "execute_result"
    }
   ],
   "source": [
    "# For sentence 1\n",
    "\n",
    "par.sentences[0].tags"
   ]
  },
  {
   "cell_type": "markdown",
   "metadata": {},
   "source": [
    "**Words Inflection**(pluralize() & singularize()) **and Lemmatization**(base form)"
   ]
  },
  {
   "cell_type": "code",
   "execution_count": 15,
   "metadata": {},
   "outputs": [
    {
     "name": "stdout",
     "output_type": "stream",
     "text": [
      "['Naturals', 'Languages', 'Procesings', 'NLPs', 'iss', 'some', 'areas', 'ofs', 'growings', 'attentions', 'dues', 'toes', 'increasings', 'numbers', 'ofs', 'applicationss', 'likes', 'chatbotss', 'machines', 'translations', 'etcs']\n",
      "['Natural', 'Language', 'Procesing', 'NLP', 'is', 'an', 'area', 'of', 'growing', 'attention', 'due', 'to', 'increasing', 'number', 'of', 'application', 'like', 'chatbot', 'machine', 'translation', 'etc']\n",
      "\n",
      "\n",
      "['Ins', 'somes', 'wayss', 'thes', 'entires', 'revolutions', 'ofs', 'intelligents', 'machiness', 'ins', 'baseds', 'ons', 'thes', 'abilities', 'toes', 'understands', 'ands', 'interacts', 'withs', 'humanss']\n",
      "['In', 'some', 'way', 'the', 'entire', 'revolution', 'of', 'intelligent', 'machine', 'in', 'based', 'on', 'the', 'ability', 'to', 'understand', 'and', 'interact', 'with', 'human']\n",
      "\n",
      "\n"
     ]
    }
   ],
   "source": [
    "for sent in par.sentences[:2]:\n",
    "    print(sent.words.pluralize())\n",
    "    print(sent.words.singularize())\n",
    "    print('\\n')"
   ]
  },
  {
   "cell_type": "markdown",
   "metadata": {},
   "source": [
    "**Lemmatization**"
   ]
  },
  {
   "cell_type": "code",
   "execution_count": 16,
   "metadata": {},
   "outputs": [
    {
     "data": {
      "text/plain": [
       "WordList(['Natural', 'Language', 'Procesing', 'NLP', 'is', 'an', 'area', 'of', 'growing', 'attention', 'due', 'to', 'increasing', 'number', 'of', 'application', 'like', 'chatbots', 'machine', 'translation', 'etc'])"
      ]
     },
     "execution_count": 16,
     "metadata": {},
     "output_type": "execute_result"
    }
   ],
   "source": [
    "par.sentences[0].words.lemmatize()"
   ]
  },
  {
   "cell_type": "code",
   "execution_count": 17,
   "metadata": {},
   "outputs": [],
   "source": [
    "from textblob import Word"
   ]
  },
  {
   "cell_type": "code",
   "execution_count": 18,
   "metadata": {},
   "outputs": [],
   "source": [
    "w = Word('increasing')"
   ]
  },
  {
   "cell_type": "code",
   "execution_count": 19,
   "metadata": {},
   "outputs": [
    {
     "data": {
      "text/plain": [
       "'increase'"
      ]
     },
     "execution_count": 19,
     "metadata": {},
     "output_type": "execute_result"
    }
   ],
   "source": [
    "w.lemmatize(\"v\") # Pass in WordNet part of speech (verb)"
   ]
  },
  {
   "cell_type": "markdown",
   "metadata": {},
   "source": [
    "## Spelling correction"
   ]
  },
  {
   "cell_type": "code",
   "execution_count": 20,
   "metadata": {},
   "outputs": [
    {
     "name": "stdout",
     "output_type": "stream",
     "text": [
      "Procesing\n"
     ]
    },
    {
     "data": {
      "text/plain": [
       "'Processing'"
      ]
     },
     "execution_count": 20,
     "metadata": {},
     "output_type": "execute_result"
    }
   ],
   "source": [
    "# Notice that the word 'Processing' is misspelt in sentence 1\n",
    "print(par.sentences[0].words[2])\n",
    "# We correct it\n",
    "\n",
    "par.sentences[0].words[2].correct()"
   ]
  },
  {
   "cell_type": "code",
   "execution_count": 21,
   "metadata": {},
   "outputs": [],
   "source": [
    "# Etc..."
   ]
  },
  {
   "cell_type": "markdown",
   "metadata": {},
   "source": [
    "See TextBlob's [documentation](https://textblob.readthedocs.io/en/dev/index.html) for more!"
   ]
  }
 ],
 "metadata": {
  "kernelspec": {
   "display_name": "Python 3",
   "language": "python",
   "name": "python3"
  },
  "language_info": {
   "codemirror_mode": {
    "name": "ipython",
    "version": 3
   },
   "file_extension": ".py",
   "mimetype": "text/x-python",
   "name": "python",
   "nbconvert_exporter": "python",
   "pygments_lexer": "ipython3",
   "version": "3.7.7"
  }
 },
 "nbformat": 4,
 "nbformat_minor": 4
}
